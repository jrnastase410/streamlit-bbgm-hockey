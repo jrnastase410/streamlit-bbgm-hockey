{
 "cells": [
  {
   "cell_type": "code",
   "id": "initial_id",
   "metadata": {
    "collapsed": true,
    "ExecuteTime": {
     "end_time": "2024-07-30T15:12:13.677534Z",
     "start_time": "2024-07-30T15:12:12.895727Z"
    }
   },
   "source": [
    "import polars as pl\n",
    "from scipy.stats import gaussian_kde\n",
    "from scipy import signal\n",
    "import numpy as np\n",
    "from tqdm import tqdm\n",
    "import pandas as pd\n",
    "\n",
    "from hgm.config import DATA_DIR, MODELS_DIR"
   ],
   "outputs": [
    {
     "name": "stderr",
     "output_type": "stream",
     "text": [
      "\u001B[32m2024-07-30 11:12:13.674\u001B[0m | \u001B[1mINFO    \u001B[0m | \u001B[36mhgm.config\u001B[0m:\u001B[36m<module>\u001B[0m:\u001B[36m11\u001B[0m - \u001B[1mPROJ_ROOT path is: C:\\Users\\jrnas\\Projects\\Personal\\hgm\u001B[0m\n"
     ]
    }
   ],
   "execution_count": 1
  },
  {
   "metadata": {
    "ExecuteTime": {
     "end_time": "2024-07-30T15:12:14.169654Z",
     "start_time": "2024-07-30T15:12:14.163419Z"
    }
   },
   "cell_type": "code",
   "source": [
    "players_raw = pl.scan_parquet(DATA_DIR / 'raw' / 'players.parquet')\n",
    "\n",
    "player_ratings = (\n",
    "    players_raw\n",
    "    .select(\n",
    "        'pid',\n",
    "        'born',\n",
    "        'ratings')\n",
    "    .explode('ratings')\n",
    "    .unnest('ratings')\n",
    "    .with_columns(\n",
    "        age=pl.col('season') - pl.col('born').struct.field('year')\n",
    "    )\n",
    "    .unique(['pid', 'season'])\n",
    "    .sort(['pid', 'season'])\n",
    "    .select('pid', 'season', 'age', 'pos', 'ovr')\n",
    ")"
   ],
   "id": "f881b5bea03a5057",
   "outputs": [],
   "execution_count": 2
  },
  {
   "metadata": {
    "ExecuteTime": {
     "end_time": "2024-07-30T15:12:14.837366Z",
     "start_time": "2024-07-30T15:12:14.494909Z"
    }
   },
   "cell_type": "code",
   "source": [
    "plot_data = (\n",
    "    player_ratings\n",
    "    .sort(['pid', 'season'])\n",
    "    .with_columns(\n",
    "        ovr_shift=pl.col('ovr').shift(-1).over('pid') - pl.col('ovr')\n",
    "    )\n",
    "    .select('pos', 'age', 'ovr_shift')\n",
    "    .drop_nulls()\n",
    "    .collect()\n",
    ")"
   ],
   "id": "116a392f85ebe52d",
   "outputs": [],
   "execution_count": 3
  },
  {
   "metadata": {
    "ExecuteTime": {
     "end_time": "2024-07-30T15:12:14.894961Z",
     "start_time": "2024-07-30T15:12:14.837366Z"
    }
   },
   "cell_type": "code",
   "source": [
    "kde_dict = dict()\n",
    "\n",
    "for position in ['C', 'W', 'D', 'G']:\n",
    "    kde_dict[position] = {}\n",
    "    for age in range(18, 36):\n",
    "        kde_dict[position][age] = {}\n",
    "        kde_dict[position][age]['data'] = plot_data.filter((pl.col('pos') == position) & (pl.col('age') == age)).select(\n",
    "            'ovr_shift').to_series().to_list()\n",
    "        kde_dict[position][age]['kde'] = gaussian_kde(kde_dict[position][age]['data'])\n",
    "\n",
    "for position in ['C', 'W', 'D', 'G']:\n",
    "    for age in range(36, 60):\n",
    "        kde_dict[position][age] = kde_dict[position][35]"
   ],
   "id": "d71b745b5b3e684b",
   "outputs": [],
   "execution_count": 4
  },
  {
   "metadata": {
    "ExecuteTime": {
     "end_time": "2024-07-30T15:12:15.119361Z",
     "start_time": "2024-07-30T15:12:15.109935Z"
    }
   },
   "cell_type": "code",
   "source": [
    "def convolve_distributions(kdes):\n",
    "    # Generate x values that cover the range of all KDEs\n",
    "    x = np.linspace(-100, 100, 1000)\n",
    "\n",
    "    # Initialize the convolved density as the density of the first KDE\n",
    "    y_convolved = kdes[0](x)\n",
    "\n",
    "    # Iterate over the rest of the KDEs\n",
    "    for kde in kdes[1:]:\n",
    "        # Calculate the density of the current KDE\n",
    "        y = kde(x)\n",
    "\n",
    "        # Perform the convolution\n",
    "        y_convolved = signal.convolve(y_convolved, y, mode='same')\n",
    "\n",
    "        # Normalize the result\n",
    "        y_convolved /= np.trapezoid(y_convolved, x)  # Use trapezoidal rule to approximate the integral\n",
    "\n",
    "    return x, y_convolved"
   ],
   "id": "6c2135ad92c781ad",
   "outputs": [],
   "execution_count": 5
  },
  {
   "metadata": {
    "ExecuteTime": {
     "end_time": "2024-07-30T15:13:41.614430Z",
     "start_time": "2024-07-30T15:12:15.465967Z"
    }
   },
   "cell_type": "code",
   "source": [
    "prog_dict = {}\n",
    "for position in ['C', 'W', 'D', 'G']:\n",
    "    prog_dict[position] = {}\n",
    "    for age in tqdm(range(18, 45)):\n",
    "        prog_dict[position][age] = {}\n",
    "        for years_in_adv in range(1, 10):\n",
    "            dicts_to_compile = [kde_dict[position][age]['kde'] for age in range(age, age + years_in_adv)]\n",
    "            prog_dict[position][age][years_in_adv] = {}\n",
    "            prog_dict[position][age][years_in_adv]['x'], prog_dict[position][age][years_in_adv][\n",
    "                'y'] = convolve_distributions(dicts_to_compile)"
   ],
   "id": "626c55cee8ecaf3",
   "outputs": [
    {
     "name": "stderr",
     "output_type": "stream",
     "text": [
      "100%|██████████| 27/27 [00:20<00:00,  1.33it/s]\n",
      "100%|██████████| 27/27 [00:26<00:00,  1.01it/s]\n",
      "100%|██████████| 27/27 [00:24<00:00,  1.10it/s]\n",
      "100%|██████████| 27/27 [00:14<00:00,  1.86it/s]\n"
     ]
    }
   ],
   "execution_count": 6
  },
  {
   "metadata": {
    "ExecuteTime": {
     "end_time": "2024-07-30T15:13:41.998187Z",
     "start_time": "2024-07-30T15:13:41.614430Z"
    }
   },
   "cell_type": "code",
   "source": [
    "df_list = []\n",
    "for position in ['C', 'W', 'D', 'G']:\n",
    "    for age in tqdm(range(18, 45)):\n",
    "        prog_df = pd.DataFrame()\n",
    "        for years_in_adv in range(1, 10):\n",
    "            temp_df = pd.DataFrame({\n",
    "                'x': prog_dict[position][age][years_in_adv]['x'],\n",
    "                f'y_{years_in_adv}': prog_dict[position][age][years_in_adv]['y']\n",
    "            })\n",
    "            if years_in_adv > 1:\n",
    "                temp_df = temp_df.drop('x', axis=1)\n",
    "            prog_df = pd.concat([prog_df, temp_df], axis=1)\n",
    "        df_list.append(prog_df.assign(position=position, age=age))\n",
    "\n",
    "prog_df = pl.DataFrame(pd.concat(df_list, axis=0).reset_index(drop=True))\n",
    "prog_df.write_parquet('../data/constants/progression.parquet')"
   ],
   "id": "b2172710167d4f6c",
   "outputs": [
    {
     "name": "stderr",
     "output_type": "stream",
     "text": [
      "100%|██████████| 27/27 [00:00<00:00, 350.48it/s]\n",
      "100%|██████████| 27/27 [00:00<00:00, 349.94it/s]\n",
      "100%|██████████| 27/27 [00:00<00:00, 347.14it/s]\n",
      "100%|██████████| 27/27 [00:00<00:00, 386.26it/s]\n"
     ]
    }
   ],
   "execution_count": 7
  },
  {
   "metadata": {
    "ExecuteTime": {
     "end_time": "2024-07-30T15:13:42.001780Z",
     "start_time": "2024-07-30T15:13:41.998187Z"
    }
   },
   "cell_type": "code",
   "source": "prog_df = pl.scan_parquet('../data/constants/progression.parquet')",
   "id": "efcc6403cbebc42",
   "outputs": [],
   "execution_count": 8
  },
  {
   "metadata": {
    "ExecuteTime": {
     "end_time": "2024-07-30T15:13:42.113023Z",
     "start_time": "2024-07-30T15:13:42.001780Z"
    }
   },
   "cell_type": "code",
   "source": [
    "import pickle\n",
    "\n",
    "model_dict = {\n",
    "    position: pickle.load(open(MODELS_DIR / 'ovr_to_cap' / f'{position}.pkl', 'rb'))\n",
    "    for position in ['C', 'W', 'D', 'G']\n",
    "}"
   ],
   "id": "3c1a007482bbd040",
   "outputs": [],
   "execution_count": 9
  },
  {
   "metadata": {
    "ExecuteTime": {
     "end_time": "2024-07-30T15:13:43.204288Z",
     "start_time": "2024-07-30T15:13:42.113023Z"
    }
   },
   "cell_type": "code",
   "source": [
    "(\n",
    "    prog_df\n",
    "    .rename({'position': 'pos'})\n",
    "    .with_columns(\n",
    "        ovr=pl.Series([range(0, 101)], dtype=pl.List(pl.Int64)),\n",
    "    )\n",
    "    .explode('ovr')\n",
    "    .rename({'x': 'exp_growth'})\n",
    "    .with_columns(\n",
    "        exp_ovr=pl.col('exp_growth').add(pl.col('ovr')),\n",
    "    )\n",
    "    .with_columns(\n",
    "        exp_value=(\n",
    "            pl.when(pl.col('pos') == 'C').then(\n",
    "                pl.col('exp_ovr') * model_dict['C'].coef_[0] + model_dict['C'].intercept_)\n",
    "            .when(pl.col('pos') == 'W').then(pl.col('exp_ovr') * model_dict['W'].coef_[0] + model_dict['W'].intercept_)\n",
    "            .when(pl.col('pos') == 'D').then(pl.col('exp_ovr') * model_dict['D'].coef_[0] + model_dict['D'].intercept_)\n",
    "            .when(pl.col('pos') == 'G').then(pl.col('exp_ovr') * model_dict['G'].coef_[0] + model_dict['G'].intercept_)\n",
    "            .clip(0)\n",
    "        )\n",
    "    )\n",
    "    .with_columns(\n",
    "        [(pl.col('exp_ovr') * pl.col(f'y_{i}')).alias(f'exp_ovr_{i}') for i in range(1, 10)] +\n",
    "        [(pl.col('exp_value') * pl.col(f'y_{i}')).alias(f'exp_value_{i}') for i in range(1, 10)]\n",
    "    )\n",
    "    .group_by(['pos', 'age', 'ovr'])\n",
    "    .agg(\n",
    "        [pl.sum(f'exp_ovr_{i}').alias(f'exp_ovr_product_{i}') for i in range(1, 10)] +\n",
    "        [pl.sum(f'exp_value_{i}').alias(f'exp_value_product_{i}') for i in range(1, 10)] +\n",
    "        [pl.sum(f'y_{i}').alias(f'y_{i}') for i in range(1, 10)]\n",
    "    )\n",
    "    .select(\n",
    "        ['pos', 'age', 'ovr'] +\n",
    "        [pl.col(f'exp_ovr_product_{i}').truediv(pl.col(f'y_{i}')).alias(f'exp_ovr_{i}') for i in range(1, 10)] +\n",
    "        [pl.col(f'exp_value_product_{i}').truediv(pl.col(f'y_{i}')).alias(f'exp_value_{i}') for i in range(1, 10)]\n",
    "    )\n",
    "    .sort(['age', 'ovr'])\n",
    "    .unpivot(index=['pos', 'age', 'ovr'])\n",
    "    .collect()\n",
    "    .write_parquet(DATA_DIR / 'constants' / 'calculated_progs.parquet')\n",
    ")"
   ],
   "id": "8cd8ca2bb91286a3",
   "outputs": [],
   "execution_count": 10
  },
  {
   "metadata": {
    "ExecuteTime": {
     "end_time": "2024-07-30T15:13:43.207029Z",
     "start_time": "2024-07-30T15:13:43.205195Z"
    }
   },
   "cell_type": "code",
   "source": "",
   "id": "a6dde10a7a86e7e7",
   "outputs": [],
   "execution_count": 10
  },
  {
   "metadata": {},
   "cell_type": "code",
   "outputs": [],
   "execution_count": null,
   "source": "",
   "id": "7ad3971a8017bffa"
  }
 ],
 "metadata": {
  "kernelspec": {
   "display_name": "Python 3",
   "language": "python",
   "name": "python3"
  },
  "language_info": {
   "codemirror_mode": {
    "name": "ipython",
    "version": 2
   },
   "file_extension": ".py",
   "mimetype": "text/x-python",
   "name": "python",
   "nbconvert_exporter": "python",
   "pygments_lexer": "ipython2",
   "version": "2.7.6"
  }
 },
 "nbformat": 4,
 "nbformat_minor": 5
}
