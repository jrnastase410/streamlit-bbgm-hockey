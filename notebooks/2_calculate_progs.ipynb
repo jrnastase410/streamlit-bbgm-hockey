{
 "cells": [
  {
   "cell_type": "code",
   "id": "initial_id",
   "metadata": {
    "collapsed": true,
    "ExecuteTime": {
     "end_time": "2024-09-19T13:30:05.038313Z",
     "start_time": "2024-09-19T13:30:04.026590Z"
    }
   },
   "source": [
    "import polars as pl\n",
    "from scipy.stats import gaussian_kde\n",
    "from scipy import signal\n",
    "import numpy as np\n",
    "from tqdm import tqdm\n",
    "import pandas as pd\n",
    "import pickle\n",
    "\n",
    "from hgm.config import DATA_DIR, MODELS_DIR"
   ],
   "outputs": [],
   "execution_count": 1
  },
  {
   "metadata": {
    "ExecuteTime": {
     "end_time": "2024-09-19T13:30:05.212916Z",
     "start_time": "2024-09-19T13:30:05.039326Z"
    }
   },
   "cell_type": "code",
   "source": [
    "players_raw = pl.scan_parquet(DATA_DIR / 'raw' / 'players.parquet')\n",
    "\n",
    "model_dict = {\n",
    "    position: pickle.load(open(MODELS_DIR / 'ovr_to_cap' / f'{position}.pkl', 'rb'))\n",
    "    for position in ['C', 'W', 'D', 'G']\n",
    "}\n",
    "\n",
    "player_ratings = (\n",
    "    players_raw\n",
    "    .select(\n",
    "        'pid',\n",
    "        'born',\n",
    "        'ratings')\n",
    "    .explode('ratings')\n",
    "    .unnest('ratings')\n",
    "    .with_columns(\n",
    "        age=pl.col('season') - pl.col('born').struct.field('year')\n",
    "    )\n",
    "    .unique(['pid', 'season'])\n",
    "    .sort(['pid', 'season'])\n",
    "    .select('pid', 'season', 'age', 'pos', 'ovr')\n",
    ")"
   ],
   "id": "f881b5bea03a5057",
   "outputs": [],
   "execution_count": 2
  },
  {
   "metadata": {
    "ExecuteTime": {
     "end_time": "2024-09-19T13:30:05.878646Z",
     "start_time": "2024-09-19T13:30:05.212916Z"
    }
   },
   "cell_type": "code",
   "source": [
    "plot_data = (\n",
    "    player_ratings\n",
    "    .sort(['pid', 'season'])\n",
    "    .with_columns(\n",
    "        ovr_shift=pl.col('ovr').shift(-1).over('pid') - pl.col('ovr')\n",
    "    )\n",
    "    .select('pos', 'age', 'ovr_shift')\n",
    "    .drop_nulls()\n",
    "    .collect()\n",
    ")"
   ],
   "id": "116a392f85ebe52d",
   "outputs": [],
   "execution_count": 3
  },
  {
   "metadata": {
    "ExecuteTime": {
     "end_time": "2024-09-19T13:32:15.038533Z",
     "start_time": "2024-09-19T13:32:15.033043Z"
    }
   },
   "cell_type": "code",
   "source": [
    "(\n",
    "    plot_data\n",
    "    .filter(pl.col('pos') == 'G')\n",
    "    .filter(pl.col('age') == 18)\n",
    "    .select(\n",
    "        pl.quantile('ovr_shift', 0.5).alias('median'),\n",
    "        pl.quantile('ovr_shift', 0.9).alias('upper')\n",
    "    )\n",
    "    .with_columns(diff=pl.col('upper') - pl.col('median'))\n",
    ")"
   ],
   "id": "b95f4d75794f35a6",
   "outputs": [
    {
     "data": {
      "text/plain": [
       "shape: (1, 3)\n",
       "┌────────┬───────┬──────┐\n",
       "│ median ┆ upper ┆ diff │\n",
       "│ ---    ┆ ---   ┆ ---  │\n",
       "│ f64    ┆ f64   ┆ f64  │\n",
       "╞════════╪═══════╪══════╡\n",
       "│ 2.0    ┆ 11.0  ┆ 9.0  │\n",
       "└────────┴───────┴──────┘"
      ],
      "text/html": [
       "<div><style>\n",
       ".dataframe > thead > tr,\n",
       ".dataframe > tbody > tr {\n",
       "  text-align: right;\n",
       "  white-space: pre-wrap;\n",
       "}\n",
       "</style>\n",
       "<small>shape: (1, 3)</small><table border=\"1\" class=\"dataframe\"><thead><tr><th>median</th><th>upper</th><th>diff</th></tr><tr><td>f64</td><td>f64</td><td>f64</td></tr></thead><tbody><tr><td>2.0</td><td>11.0</td><td>9.0</td></tr></tbody></table></div>"
      ]
     },
     "execution_count": 20,
     "metadata": {},
     "output_type": "execute_result"
    }
   ],
   "execution_count": 20
  },
  {
   "metadata": {
    "ExecuteTime": {
     "end_time": "2024-08-30T15:42:01.986384Z",
     "start_time": "2024-08-30T15:42:01.905912Z"
    }
   },
   "cell_type": "code",
   "source": [
    "kde_dict = dict()\n",
    "\n",
    "for position in ['C', 'W', 'D', 'G']:\n",
    "    kde_dict[position] = {}\n",
    "    for age in range(18, 36):\n",
    "        kde_dict[position][age] = {}\n",
    "        kde_dict[position][age]['data'] = plot_data.filter((pl.col('pos') == position) & (pl.col('age') == age)).select(\n",
    "            'ovr_shift').to_series().to_list()\n",
    "        kde_dict[position][age]['kde'] = gaussian_kde(kde_dict[position][age]['data'])\n",
    "\n",
    "for position in ['C', 'W', 'D', 'G']:\n",
    "    for age in range(36, 60):\n",
    "        kde_dict[position][age] = kde_dict[position][35]"
   ],
   "id": "d71b745b5b3e684b",
   "outputs": [],
   "execution_count": 4
  },
  {
   "metadata": {
    "ExecuteTime": {
     "end_time": "2024-08-30T15:42:01.990225Z",
     "start_time": "2024-08-30T15:42:01.987390Z"
    }
   },
   "cell_type": "code",
   "source": [
    "def convolve_distributions(kdes):\n",
    "    # Generate x values that cover the range of all KDEs\n",
    "    x = np.linspace(-100, 100, 1000)\n",
    "\n",
    "    # Initialize the convolved density as the density of the first KDE\n",
    "    y_convolved = kdes[0](x)\n",
    "\n",
    "    # Iterate over the rest of the KDEs\n",
    "    for kde in kdes[1:]:\n",
    "        # Calculate the density of the current KDE\n",
    "        y = kde(x)\n",
    "\n",
    "        # Perform the convolution\n",
    "        y_convolved = signal.convolve(y_convolved, y, mode='same')\n",
    "\n",
    "        # Normalize the result\n",
    "        y_convolved /= np.trapezoid(y_convolved, x)  # Use trapezoidal rule to approximate the integral\n",
    "\n",
    "    return x, y_convolved"
   ],
   "id": "6c2135ad92c781ad",
   "outputs": [],
   "execution_count": 5
  },
  {
   "metadata": {
    "ExecuteTime": {
     "end_time": "2024-08-30T15:44:33.478572Z",
     "start_time": "2024-08-30T15:42:01.991240Z"
    }
   },
   "cell_type": "code",
   "source": [
    "prog_dict = {}\n",
    "for position in ['C', 'W', 'D', 'G']:\n",
    "    prog_dict[position] = {}\n",
    "    for age in tqdm(range(18, 45)):\n",
    "        prog_dict[position][age] = {}\n",
    "        for years_in_adv in range(1, 10):\n",
    "            dicts_to_compile = [kde_dict[position][age]['kde'] for age in range(age, age + years_in_adv)]\n",
    "            prog_dict[position][age][years_in_adv] = {}\n",
    "            prog_dict[position][age][years_in_adv]['x'], prog_dict[position][age][years_in_adv][\n",
    "                'y'] = convolve_distributions(dicts_to_compile)"
   ],
   "id": "626c55cee8ecaf3",
   "outputs": [
    {
     "name": "stderr",
     "output_type": "stream",
     "text": [
      "100%|██████████| 27/27 [00:34<00:00,  1.30s/it]\n",
      "100%|██████████| 27/27 [00:45<00:00,  1.68s/it]\n",
      "100%|██████████| 27/27 [00:44<00:00,  1.66s/it]\n",
      "100%|██████████| 27/27 [00:26<00:00,  1.03it/s]\n"
     ]
    }
   ],
   "execution_count": 6
  },
  {
   "metadata": {
    "ExecuteTime": {
     "end_time": "2024-08-30T15:44:33.884097Z",
     "start_time": "2024-08-30T15:44:33.479219Z"
    }
   },
   "cell_type": "code",
   "source": [
    "df_list = []\n",
    "for position in ['C', 'W', 'D', 'G']:\n",
    "    for age in tqdm(range(18, 45)):\n",
    "        prog_df = pd.DataFrame()\n",
    "        for years_in_adv in range(1, 10):\n",
    "            temp_df = pd.DataFrame({\n",
    "                'x': prog_dict[position][age][years_in_adv]['x'],\n",
    "                f'y_{years_in_adv}': prog_dict[position][age][years_in_adv]['y']\n",
    "            })\n",
    "            if years_in_adv > 1:\n",
    "                temp_df = temp_df.drop('x', axis=1)\n",
    "            prog_df = pd.concat([prog_df, temp_df], axis=1)\n",
    "        df_list.append(prog_df.assign(position=position, age=age))\n",
    "\n",
    "prog_df = pl.DataFrame(pd.concat(df_list, axis=0).reset_index(drop=True))\n",
    "prog_df.write_parquet('../data/constants/progression.parquet')"
   ],
   "id": "b2172710167d4f6c",
   "outputs": [
    {
     "name": "stderr",
     "output_type": "stream",
     "text": [
      "100%|██████████| 27/27 [00:00<00:00, 319.10it/s]\n",
      "100%|██████████| 27/27 [00:00<00:00, 326.10it/s]\n",
      "100%|██████████| 27/27 [00:00<00:00, 310.55it/s]\n",
      "100%|██████████| 27/27 [00:00<00:00, 321.60it/s]\n"
     ]
    }
   ],
   "execution_count": 7
  },
  {
   "metadata": {
    "ExecuteTime": {
     "end_time": "2024-08-30T15:44:33.887864Z",
     "start_time": "2024-08-30T15:44:33.885103Z"
    }
   },
   "cell_type": "code",
   "source": "prog_df = pl.scan_parquet('../data/constants/progression.parquet')",
   "id": "efcc6403cbebc42",
   "outputs": [],
   "execution_count": 8
  },
  {
   "metadata": {
    "ExecuteTime": {
     "end_time": "2024-08-30T15:44:35.232544Z",
     "start_time": "2024-08-30T15:44:33.887864Z"
    }
   },
   "cell_type": "code",
   "source": [
    "calculated_progs = (\n",
    "    prog_df\n",
    "    .rename({'position': 'pos'})\n",
    "    .with_columns(\n",
    "        ovr=pl.Series([range(0, 101)], dtype=pl.List(pl.Int64)),\n",
    "    )\n",
    "    .explode('ovr')\n",
    "    .rename({'x': 'exp_growth'})\n",
    "    .with_columns(\n",
    "        exp_ovr=pl.col('exp_growth').add(pl.col('ovr')),\n",
    "    )\n",
    "    .with_columns(\n",
    "        exp_value=(\n",
    "            pl.when(pl.col('pos') == 'C').then(\n",
    "                pl.col('exp_ovr') * model_dict['C'].coef_[0] + model_dict['C'].intercept_)\n",
    "            .when(pl.col('pos') == 'W').then(pl.col('exp_ovr') * model_dict['W'].coef_[0] + model_dict['W'].intercept_)\n",
    "            .when(pl.col('pos') == 'D').then(pl.col('exp_ovr') * model_dict['D'].coef_[0] + model_dict['D'].intercept_)\n",
    "            .when(pl.col('pos') == 'G').then(pl.col('exp_ovr') * model_dict['G'].coef_[0] + model_dict['G'].intercept_)\n",
    "            .clip(0)\n",
    "        )\n",
    "    )\n",
    "    .with_columns(\n",
    "        [(pl.col('exp_ovr') * pl.col(f'y_{i}')).alias(f'exp_ovr_{i}') for i in range(1, 10)] +\n",
    "        [(pl.col('exp_value') * pl.col(f'y_{i}')).alias(f'exp_value_{i}') for i in range(1, 10)]\n",
    "    )\n",
    "    .group_by(['pos', 'age', 'ovr'])\n",
    "    .agg(\n",
    "        [pl.sum(f'exp_ovr_{i}').alias(f'exp_ovr_product_{i}') for i in range(1, 10)] +\n",
    "        [pl.sum(f'exp_value_{i}').alias(f'exp_value_product_{i}') for i in range(1, 10)] +\n",
    "        [pl.sum(f'y_{i}').alias(f'y_{i}') for i in range(1, 10)]\n",
    "    )\n",
    "    .select(\n",
    "        ['pos', 'age', 'ovr'] +\n",
    "        [pl.col(f'exp_ovr_product_{i}').truediv(pl.col(f'y_{i}')).alias(f'exp_ovr_{i}') for i in range(1, 10)] +\n",
    "        [pl.col(f'exp_value_product_{i}').truediv(pl.col(f'y_{i}')).alias(f'exp_value_{i}') for i in range(1, 10)]\n",
    "    )\n",
    "    .sort(['age', 'ovr'])\n",
    "    .unpivot(index=['pos', 'age', 'ovr'])\n",
    "    .collect()\n",
    ")"
   ],
   "id": "8cd8ca2bb91286a3",
   "outputs": [],
   "execution_count": 9
  },
  {
   "metadata": {
    "ExecuteTime": {
     "end_time": "2024-08-30T15:44:35.260296Z",
     "start_time": "2024-08-30T15:44:35.233607Z"
    }
   },
   "cell_type": "code",
   "source": "calculated_progs.write_parquet(DATA_DIR / 'constants' / 'calculated_progs.parquet')",
   "id": "a6dde10a7a86e7e7",
   "outputs": [],
   "execution_count": 10
  },
  {
   "metadata": {
    "ExecuteTime": {
     "end_time": "2024-08-30T15:44:35.283201Z",
     "start_time": "2024-08-30T15:44:35.262308Z"
    }
   },
   "cell_type": "code",
   "source": [
    "(\n",
    "    calculated_progs\n",
    "    .filter(pl.col('pos') == 'C')\n",
    "    .filter(pl.col('age') == 18)\n",
    "    .filter(pl.col('ovr') == 50)\n",
    "    .to_pandas()\n",
    ")"
   ],
   "id": "7ad3971a8017bffa",
   "outputs": [
    {
     "data": {
      "text/plain": [
       "   pos  age  ovr     variable      value\n",
       "0    C   18   50    exp_ovr_1  52.409274\n",
       "1    C   18   50    exp_ovr_2  54.840981\n",
       "2    C   18   50    exp_ovr_3  57.361169\n",
       "3    C   18   50    exp_ovr_4  58.716925\n",
       "4    C   18   50    exp_ovr_5  60.036757\n",
       "5    C   18   50    exp_ovr_6  61.260064\n",
       "6    C   18   50    exp_ovr_7  62.470018\n",
       "7    C   18   50    exp_ovr_8  62.232078\n",
       "8    C   18   50    exp_ovr_9  62.023121\n",
       "9    C   18   50  exp_value_1   1.365423\n",
       "10   C   18   50  exp_value_2   3.057243\n",
       "11   C   18   50  exp_value_3   4.957413\n",
       "12   C   18   50  exp_value_4   6.197059\n",
       "13   C   18   50  exp_value_5   7.379947\n",
       "14   C   18   50  exp_value_6   8.474212\n",
       "15   C   18   50  exp_value_7   9.542468\n",
       "16   C   18   50  exp_value_8   9.456266\n",
       "17   C   18   50  exp_value_9   9.390632"
      ],
      "text/html": [
       "<div>\n",
       "<style scoped>\n",
       "    .dataframe tbody tr th:only-of-type {\n",
       "        vertical-align: middle;\n",
       "    }\n",
       "\n",
       "    .dataframe tbody tr th {\n",
       "        vertical-align: top;\n",
       "    }\n",
       "\n",
       "    .dataframe thead th {\n",
       "        text-align: right;\n",
       "    }\n",
       "</style>\n",
       "<table border=\"1\" class=\"dataframe\">\n",
       "  <thead>\n",
       "    <tr style=\"text-align: right;\">\n",
       "      <th></th>\n",
       "      <th>pos</th>\n",
       "      <th>age</th>\n",
       "      <th>ovr</th>\n",
       "      <th>variable</th>\n",
       "      <th>value</th>\n",
       "    </tr>\n",
       "  </thead>\n",
       "  <tbody>\n",
       "    <tr>\n",
       "      <th>0</th>\n",
       "      <td>C</td>\n",
       "      <td>18</td>\n",
       "      <td>50</td>\n",
       "      <td>exp_ovr_1</td>\n",
       "      <td>52.409274</td>\n",
       "    </tr>\n",
       "    <tr>\n",
       "      <th>1</th>\n",
       "      <td>C</td>\n",
       "      <td>18</td>\n",
       "      <td>50</td>\n",
       "      <td>exp_ovr_2</td>\n",
       "      <td>54.840981</td>\n",
       "    </tr>\n",
       "    <tr>\n",
       "      <th>2</th>\n",
       "      <td>C</td>\n",
       "      <td>18</td>\n",
       "      <td>50</td>\n",
       "      <td>exp_ovr_3</td>\n",
       "      <td>57.361169</td>\n",
       "    </tr>\n",
       "    <tr>\n",
       "      <th>3</th>\n",
       "      <td>C</td>\n",
       "      <td>18</td>\n",
       "      <td>50</td>\n",
       "      <td>exp_ovr_4</td>\n",
       "      <td>58.716925</td>\n",
       "    </tr>\n",
       "    <tr>\n",
       "      <th>4</th>\n",
       "      <td>C</td>\n",
       "      <td>18</td>\n",
       "      <td>50</td>\n",
       "      <td>exp_ovr_5</td>\n",
       "      <td>60.036757</td>\n",
       "    </tr>\n",
       "    <tr>\n",
       "      <th>5</th>\n",
       "      <td>C</td>\n",
       "      <td>18</td>\n",
       "      <td>50</td>\n",
       "      <td>exp_ovr_6</td>\n",
       "      <td>61.260064</td>\n",
       "    </tr>\n",
       "    <tr>\n",
       "      <th>6</th>\n",
       "      <td>C</td>\n",
       "      <td>18</td>\n",
       "      <td>50</td>\n",
       "      <td>exp_ovr_7</td>\n",
       "      <td>62.470018</td>\n",
       "    </tr>\n",
       "    <tr>\n",
       "      <th>7</th>\n",
       "      <td>C</td>\n",
       "      <td>18</td>\n",
       "      <td>50</td>\n",
       "      <td>exp_ovr_8</td>\n",
       "      <td>62.232078</td>\n",
       "    </tr>\n",
       "    <tr>\n",
       "      <th>8</th>\n",
       "      <td>C</td>\n",
       "      <td>18</td>\n",
       "      <td>50</td>\n",
       "      <td>exp_ovr_9</td>\n",
       "      <td>62.023121</td>\n",
       "    </tr>\n",
       "    <tr>\n",
       "      <th>9</th>\n",
       "      <td>C</td>\n",
       "      <td>18</td>\n",
       "      <td>50</td>\n",
       "      <td>exp_value_1</td>\n",
       "      <td>1.365423</td>\n",
       "    </tr>\n",
       "    <tr>\n",
       "      <th>10</th>\n",
       "      <td>C</td>\n",
       "      <td>18</td>\n",
       "      <td>50</td>\n",
       "      <td>exp_value_2</td>\n",
       "      <td>3.057243</td>\n",
       "    </tr>\n",
       "    <tr>\n",
       "      <th>11</th>\n",
       "      <td>C</td>\n",
       "      <td>18</td>\n",
       "      <td>50</td>\n",
       "      <td>exp_value_3</td>\n",
       "      <td>4.957413</td>\n",
       "    </tr>\n",
       "    <tr>\n",
       "      <th>12</th>\n",
       "      <td>C</td>\n",
       "      <td>18</td>\n",
       "      <td>50</td>\n",
       "      <td>exp_value_4</td>\n",
       "      <td>6.197059</td>\n",
       "    </tr>\n",
       "    <tr>\n",
       "      <th>13</th>\n",
       "      <td>C</td>\n",
       "      <td>18</td>\n",
       "      <td>50</td>\n",
       "      <td>exp_value_5</td>\n",
       "      <td>7.379947</td>\n",
       "    </tr>\n",
       "    <tr>\n",
       "      <th>14</th>\n",
       "      <td>C</td>\n",
       "      <td>18</td>\n",
       "      <td>50</td>\n",
       "      <td>exp_value_6</td>\n",
       "      <td>8.474212</td>\n",
       "    </tr>\n",
       "    <tr>\n",
       "      <th>15</th>\n",
       "      <td>C</td>\n",
       "      <td>18</td>\n",
       "      <td>50</td>\n",
       "      <td>exp_value_7</td>\n",
       "      <td>9.542468</td>\n",
       "    </tr>\n",
       "    <tr>\n",
       "      <th>16</th>\n",
       "      <td>C</td>\n",
       "      <td>18</td>\n",
       "      <td>50</td>\n",
       "      <td>exp_value_8</td>\n",
       "      <td>9.456266</td>\n",
       "    </tr>\n",
       "    <tr>\n",
       "      <th>17</th>\n",
       "      <td>C</td>\n",
       "      <td>18</td>\n",
       "      <td>50</td>\n",
       "      <td>exp_value_9</td>\n",
       "      <td>9.390632</td>\n",
       "    </tr>\n",
       "  </tbody>\n",
       "</table>\n",
       "</div>"
      ]
     },
     "execution_count": 11,
     "metadata": {},
     "output_type": "execute_result"
    }
   ],
   "execution_count": 11
  },
  {
   "metadata": {
    "ExecuteTime": {
     "end_time": "2024-08-30T15:44:35.287582Z",
     "start_time": "2024-08-30T15:44:35.284210Z"
    }
   },
   "cell_type": "code",
   "source": "",
   "id": "e48b8f694caf874",
   "outputs": [],
   "execution_count": 11
  }
 ],
 "metadata": {
  "kernelspec": {
   "display_name": "Python 3",
   "language": "python",
   "name": "python3"
  },
  "language_info": {
   "codemirror_mode": {
    "name": "ipython",
    "version": 2
   },
   "file_extension": ".py",
   "mimetype": "text/x-python",
   "name": "python",
   "nbconvert_exporter": "python",
   "pygments_lexer": "ipython2",
   "version": "2.7.6"
  }
 },
 "nbformat": 4,
 "nbformat_minor": 5
}
