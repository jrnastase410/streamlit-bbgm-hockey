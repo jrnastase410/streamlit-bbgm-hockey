{
 "cells": [
  {
   "cell_type": "code",
   "id": "initial_id",
   "metadata": {
    "collapsed": true,
    "ExecuteTime": {
     "end_time": "2024-07-25T19:43:13.446441Z",
     "start_time": "2024-07-25T19:43:13.442714Z"
    }
   },
   "source": [
    "import msgspec\n",
    "import polars as pl\n",
    "import pickle\n",
    "from sklearn.linear_model import LinearRegression, RidgeCV\n",
    "\n",
    "from hgm.config import DATA_DIR"
   ],
   "outputs": [],
   "execution_count": 3
  },
  {
   "metadata": {
    "ExecuteTime": {
     "end_time": "2024-07-25T19:46:34.284934Z",
     "start_time": "2024-07-25T19:46:34.279031Z"
    }
   },
   "cell_type": "code",
   "source": "DATA_FILEPATH = r'C:\\Users\\jrnas\\Downloads\\ZGMH_NHL_2023_playoffs_Round_1(2).json'",
   "id": "65aae83ea5826279",
   "outputs": [],
   "execution_count": 13
  },
  {
   "metadata": {
    "ExecuteTime": {
     "end_time": "2024-07-25T19:46:36.106758Z",
     "start_time": "2024-07-25T19:46:34.835251Z"
    }
   },
   "cell_type": "code",
   "source": [
    "with open(DATA_FILEPATH, 'rb') as file:\n",
    "    decoded_data = msgspec.json.decode(file.read())"
   ],
   "id": "a1deac0696bc2f75",
   "outputs": [],
   "execution_count": 14
  },
  {
   "metadata": {
    "ExecuteTime": {
     "end_time": "2024-07-25T19:46:55.882056Z",
     "start_time": "2024-07-25T19:46:55.865626Z"
    }
   },
   "cell_type": "code",
   "source": "decoded_data.keys()",
   "id": "4e41e40563f9a861",
   "outputs": [
    {
     "data": {
      "text/plain": [
       "dict_keys(['version', 'meta', 'players', 'releasedPlayers', 'awards', 'teams', 'gameAttributes', 'trade', 'draftLotteryResults', 'playerFeats', 'allStars', 'seasonLeaders'])"
      ]
     },
     "execution_count": 16,
     "metadata": {},
     "output_type": "execute_result"
    }
   ],
   "execution_count": 16
  }
 ],
 "metadata": {
  "kernelspec": {
   "display_name": "Python 3",
   "language": "python",
   "name": "python3"
  },
  "language_info": {
   "codemirror_mode": {
    "name": "ipython",
    "version": 2
   },
   "file_extension": ".py",
   "mimetype": "text/x-python",
   "name": "python",
   "nbconvert_exporter": "python",
   "pygments_lexer": "ipython2",
   "version": "2.7.6"
  }
 },
 "nbformat": 4,
 "nbformat_minor": 5
}
