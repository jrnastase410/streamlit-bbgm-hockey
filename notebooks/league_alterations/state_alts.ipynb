{
 "cells": [
  {
   "cell_type": "code",
   "id": "initial_id",
   "metadata": {
    "collapsed": true,
    "ExecuteTime": {
     "end_time": "2024-08-13T16:53:30.528511Z",
     "start_time": "2024-08-13T16:53:30.519151Z"
    }
   },
   "source": "import msgspec",
   "outputs": [],
   "execution_count": 36
  },
  {
   "metadata": {
    "ExecuteTime": {
     "end_time": "2024-08-13T16:53:30.922407Z",
     "start_time": "2024-08-13T16:53:30.919332Z"
    }
   },
   "cell_type": "code",
   "source": [
    "def load_json(filepath):\n",
    "    with open(filepath, 'rb') as f:\n",
    "        data = msgspec.json.decode(f.read())\n",
    "    return data\n",
    "\n",
    "\n",
    "def save_json(data, filepath):\n",
    "    with open(filepath, 'wb') as f:\n",
    "        f.write(msgspec.json.encode(data))"
   ],
   "id": "389865720c602aae",
   "outputs": [],
   "execution_count": 37
  },
  {
   "metadata": {
    "ExecuteTime": {
     "end_time": "2024-08-13T16:56:08.301026Z",
     "start_time": "2024-08-13T16:56:08.298032Z"
    }
   },
   "cell_type": "code",
   "source": [
    "filepath = r\"C:\\Users\\jrnas\\Projects\\Personal\\hgm\\league_files\\nhl\\03_2024_after_draft_team_pops.json\"\n",
    "new_filepath = r\"C:\\Users\\jrnas\\Projects\\Personal\\hgm\\league_files\\nhl\\04_2024_after_draft_history_settings.json\""
   ],
   "id": "c43e441058df26be",
   "outputs": [],
   "execution_count": 53
  },
  {
   "metadata": {
    "ExecuteTime": {
     "end_time": "2024-08-13T16:56:08.637023Z",
     "start_time": "2024-08-13T16:56:08.448228Z"
    }
   },
   "cell_type": "code",
   "source": "loaded_data = load_json(filepath)",
   "id": "4852b82376712f61",
   "outputs": [],
   "execution_count": 54
  },
  {
   "metadata": {
    "ExecuteTime": {
     "end_time": "2024-08-13T16:56:08.640265Z",
     "start_time": "2024-08-13T16:56:08.638038Z"
    }
   },
   "cell_type": "code",
   "source": [
    "loaded_data['gameAttributes']['userTid'][0]['value'] = 39\n",
    "loaded_data['gameAttributes']['godModeInPast'] = False"
   ],
   "id": "90229f7da3aee2e7",
   "outputs": [],
   "execution_count": 55
  },
  {
   "metadata": {
    "ExecuteTime": {
     "end_time": "2024-08-13T16:58:19.826670Z",
     "start_time": "2024-08-13T16:58:19.820779Z"
    }
   },
   "cell_type": "code",
   "source": [
    "for team in loaded_data['teams']:\n",
    "    for category in ['scouting','coaching','health','facilities']:\n",
    "        team['budget'][category] = 35\n",
    "    for season in team['seasons']:\n",
    "        for category in ['coaching', 'facilities', 'health', 'scouting']:\n",
    "            season['expenseLevels'][category] = 1600 * 35 / 20"
   ],
   "id": "99a3005f9b267c79",
   "outputs": [],
   "execution_count": 65
  },
  {
   "metadata": {
    "ExecuteTime": {
     "end_time": "2024-08-13T16:58:20.048787Z",
     "start_time": "2024-08-13T16:58:19.957120Z"
    }
   },
   "cell_type": "code",
   "source": "save_json(loaded_data, new_filepath)",
   "id": "e9fa2901b72c3612",
   "outputs": [],
   "execution_count": 66
  },
  {
   "metadata": {
    "ExecuteTime": {
     "end_time": "2024-08-13T17:10:03.633267Z",
     "start_time": "2024-08-13T17:10:03.626547Z"
    }
   },
   "cell_type": "code",
   "source": "loaded_data.keys()",
   "id": "6fe10d2eb93dafbc",
   "outputs": [
    {
     "data": {
      "text/plain": [
       "dict_keys(['version', 'meta', 'players', 'releasedPlayers', 'awards', 'teams', 'gameAttributes', 'playoffSeries', 'draftPicks', 'trade', 'events'])"
      ]
     },
     "execution_count": 67,
     "metadata": {},
     "output_type": "execute_result"
    }
   ],
   "execution_count": 67
  },
  {
   "metadata": {
    "ExecuteTime": {
     "end_time": "2024-08-13T17:10:12.158945Z",
     "start_time": "2024-08-13T17:10:12.149722Z"
    }
   },
   "cell_type": "code",
   "source": "loaded_data['releasedPlayers']",
   "id": "e500fdcb6545b8f4",
   "outputs": [
    {
     "data": {
      "text/plain": [
       "[{'pid': 1855, 'tid': 10, 'contract': {'amount': 1333, 'exp': 2025}, 'rid': 0},\n",
       " {'pid': 1742, 'tid': 20, 'contract': {'amount': 3277, 'exp': 2030}, 'rid': 1},\n",
       " {'pid': 1642, 'tid': 22, 'contract': {'amount': 1875, 'exp': 2026}, 'rid': 2},\n",
       " {'pid': 1825, 'tid': 6, 'contract': {'amount': 2000, 'exp': 2025}, 'rid': 3},\n",
       " {'pid': 1613, 'tid': 6, 'contract': {'amount': 1167, 'exp': 2025}, 'rid': 4},\n",
       " {'pid': 1871, 'tid': 28, 'contract': {'amount': 892, 'exp': 2026}, 'rid': 5},\n",
       " {'pid': 2553, 'tid': 28, 'contract': {'amount': 233, 'exp': 2026}, 'rid': 6},\n",
       " {'pid': 1490, 'tid': 4, 'contract': {'amount': 1108, 'exp': 2026}, 'rid': 7},\n",
       " {'pid': 1553, 'tid': 9, 'contract': {'amount': 1056, 'exp': 2026}, 'rid': 8},\n",
       " {'pid': 2302, 'tid': 9, 'contract': {'amount': 533, 'exp': 2025}, 'rid': 9},\n",
       " {'pid': 1529,\n",
       "  'tid': 27,\n",
       "  'contract': {'amount': 1917, 'exp': 2025},\n",
       "  'rid': 10},\n",
       " {'pid': 1751,\n",
       "  'tid': 27,\n",
       "  'contract': {'amount': 1750, 'exp': 2030},\n",
       "  'rid': 11},\n",
       " {'pid': 1506, 'tid': 2, 'contract': {'amount': 1242, 'exp': 2025}, 'rid': 12},\n",
       " {'pid': 2180, 'tid': 8, 'contract': {'amount': 2025, 'exp': 2025}, 'rid': 13},\n",
       " {'pid': 1487, 'tid': 8, 'contract': {'amount': 600, 'exp': 2030}, 'rid': 14},\n",
       " {'pid': 1473,\n",
       "  'tid': 21,\n",
       "  'contract': {'amount': 2141, 'exp': 2029},\n",
       "  'rid': 15},\n",
       " {'pid': 1490,\n",
       "  'tid': 21,\n",
       "  'contract': {'amount': 2141, 'exp': 2029},\n",
       "  'rid': 16},\n",
       " {'pid': 1536,\n",
       "  'tid': 16,\n",
       "  'contract': {'amount': 2344, 'exp': 2025},\n",
       "  'rid': 17},\n",
       " {'pid': 1657,\n",
       "  'tid': 16,\n",
       "  'contract': {'amount': 1925, 'exp': 2025},\n",
       "  'rid': 18},\n",
       " {'pid': 1746,\n",
       "  'tid': 13,\n",
       "  'contract': {'amount': 4000, 'exp': 2025},\n",
       "  'rid': 19},\n",
       " {'pid': 1646, 'tid': 13, 'contract': {'amount': 250, 'exp': 2026}, 'rid': 20},\n",
       " {'pid': 1686,\n",
       "  'tid': 13,\n",
       "  'contract': {'amount': 3356, 'exp': 2029},\n",
       "  'rid': 21},\n",
       " {'pid': 1605,\n",
       "  'tid': 13,\n",
       "  'contract': {'amount': 2000, 'exp': 2028},\n",
       "  'rid': 22},\n",
       " {'pid': 1435, 'tid': 25, 'contract': {'amount': 250, 'exp': 2025}, 'rid': 23},\n",
       " {'pid': 1874,\n",
       "  'tid': 14,\n",
       "  'contract': {'amount': 1000, 'exp': 2028},\n",
       "  'rid': 24},\n",
       " {'pid': 3970, 'tid': 14, 'contract': {'amount': 500, 'exp': 2028}, 'rid': 25},\n",
       " {'pid': 1757,\n",
       "  'tid': 17,\n",
       "  'contract': {'amount': 3571, 'exp': 2026},\n",
       "  'rid': 26},\n",
       " {'pid': 1603,\n",
       "  'tid': 17,\n",
       "  'contract': {'amount': 2058, 'exp': 2026},\n",
       "  'rid': 27},\n",
       " {'pid': 2022,\n",
       "  'tid': 17,\n",
       "  'contract': {'amount': 1667, 'exp': 2025},\n",
       "  'rid': 28},\n",
       " {'pid': 1536, 'tid': 1, 'contract': {'amount': 1563, 'exp': 2025}, 'rid': 29},\n",
       " {'pid': 1700, 'tid': 1, 'contract': {'amount': 1250, 'exp': 2025}, 'rid': 30},\n",
       " {'pid': 1546, 'tid': 1, 'contract': {'amount': 917, 'exp': 2026}, 'rid': 31},\n",
       " {'pid': 1480,\n",
       "  'tid': 11,\n",
       "  'contract': {'amount': 2720, 'exp': 2025},\n",
       "  'rid': 32},\n",
       " {'pid': 1652,\n",
       "  'tid': 11,\n",
       "  'contract': {'amount': 1500, 'exp': 2027},\n",
       "  'rid': 33},\n",
       " {'pid': 1809,\n",
       "  'tid': 11,\n",
       "  'contract': {'amount': 1388, 'exp': 2030},\n",
       "  'rid': 34},\n",
       " {'pid': 1673,\n",
       "  'tid': 11,\n",
       "  'contract': {'amount': 1667, 'exp': 2027},\n",
       "  'rid': 35},\n",
       " {'pid': 2270, 'tid': 11, 'contract': {'amount': 392, 'exp': 2026}, 'rid': 36},\n",
       " {'pid': 1692, 'tid': 39, 'contract': {'amount': 415, 'exp': 2030}, 'rid': 37},\n",
       " {'pid': 1710,\n",
       "  'tid': 39,\n",
       "  'contract': {'amount': 1934, 'exp': 2025},\n",
       "  'rid': 38},\n",
       " {'pid': 1692,\n",
       "  'tid': 23,\n",
       "  'contract': {'amount': 3044, 'exp': 2030},\n",
       "  'rid': 39},\n",
       " {'pid': 1903, 'tid': 23, 'contract': {'amount': 713, 'exp': 2026}, 'rid': 40},\n",
       " {'pid': 1767, 'tid': 0, 'contract': {'amount': 3900, 'exp': 2025}, 'rid': 41},\n",
       " {'pid': 3971,\n",
       "  'tid': 29,\n",
       "  'contract': {'amount': 2750, 'exp': 2025},\n",
       "  'rid': 42},\n",
       " {'pid': 1723,\n",
       "  'tid': 29,\n",
       "  'contract': {'amount': 2167, 'exp': 2026},\n",
       "  'rid': 43}]"
      ]
     },
     "execution_count": 68,
     "metadata": {},
     "output_type": "execute_result"
    }
   ],
   "execution_count": 68
  },
  {
   "metadata": {},
   "cell_type": "code",
   "outputs": [],
   "execution_count": null,
   "source": "",
   "id": "6a457fcdaa7bf297"
  }
 ],
 "metadata": {
  "kernelspec": {
   "display_name": "Python 3",
   "language": "python",
   "name": "python3"
  },
  "language_info": {
   "codemirror_mode": {
    "name": "ipython",
    "version": 2
   },
   "file_extension": ".py",
   "mimetype": "text/x-python",
   "name": "python",
   "nbconvert_exporter": "python",
   "pygments_lexer": "ipython2",
   "version": "2.7.6"
  }
 },
 "nbformat": 4,
 "nbformat_minor": 5
}
