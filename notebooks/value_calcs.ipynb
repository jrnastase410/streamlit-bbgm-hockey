{
 "cells": [
  {
   "cell_type": "code",
   "id": "initial_id",
   "metadata": {
    "collapsed": true,
    "ExecuteTime": {
     "end_time": "2024-07-30T15:08:21.926078Z",
     "start_time": "2024-07-30T15:08:21.921093Z"
    }
   },
   "source": [
    "import polars as pl\n",
    "import pickle\n",
    "from sklearn.linear_model import LinearRegression, RidgeCV\n",
    "\n",
    "from hgm.config import MODELS_DIR, DATA_DIR"
   ],
   "outputs": [],
   "execution_count": 102
  },
  {
   "metadata": {
    "ExecuteTime": {
     "end_time": "2024-07-30T15:08:22.509547Z",
     "start_time": "2024-07-30T15:08:22.488598Z"
    }
   },
   "cell_type": "code",
   "source": [
    "players_raw = pl.scan_parquet(DATA_DIR / 'raw' / 'players.parquet')\n",
    "teams_raw = pl.read_parquet(DATA_DIR / 'raw' / 'teams.parquet')\n",
    "with open(DATA_DIR / 'raw' / 'game_settings.pkl', 'rb') as file:\n",
    "    game_settings = pickle.load(file)"
   ],
   "id": "4a8bf73f12e5bcc5",
   "outputs": [],
   "execution_count": 103
  },
  {
   "metadata": {
    "ExecuteTime": {
     "end_time": "2024-07-30T15:08:23.060702Z",
     "start_time": "2024-07-30T15:08:23.052541Z"
    }
   },
   "cell_type": "code",
   "source": [
    "def adjust_for_replacement(df, replacements):\n",
    "    return (\n",
    "        df\n",
    "        .join(replacements, on='pos', how='left')\n",
    "        .with_columns(\n",
    "            ovr_added=(pl.col('ovr') - pl.col('ovr_rep')).clip(0) / 100,\n",
    "        )\n",
    "        .with_columns(\n",
    "            ovr_added_minutes=pl.col('ovr_added') * pl.col('min'),\n",
    "        )\n",
    "        .drop(['ovr_rep'])\n",
    "    )"
   ],
   "id": "5c221639cff4d8fb",
   "outputs": [],
   "execution_count": 104
  },
  {
   "metadata": {
    "ExecuteTime": {
     "end_time": "2024-07-30T15:08:24.392680Z",
     "start_time": "2024-07-30T15:08:23.685101Z"
    }
   },
   "cell_type": "code",
   "source": [
    "player_ratings = (\n",
    "    players_raw\n",
    "    .select(\n",
    "        'pid',\n",
    "        pl.concat_str([pl.col('firstName'), pl.lit(' '), pl.col('lastName')]).alias('player'),\n",
    "        'born',\n",
    "        'ratings')\n",
    "    .explode('ratings')\n",
    "    .unnest('ratings')\n",
    "    .with_columns(\n",
    "        age=pl.col('season') - pl.col('born').struct.field('year')\n",
    "    )\n",
    "    .unique(['pid', 'season'])\n",
    "    .sort(['pid', 'season'])\n",
    "    .select('pid', 'player', 'season', 'age', 'pos', 'ovr')\n",
    "    .collect()\n",
    ")\n",
    "\n",
    "player_stats = (\n",
    "    players_raw\n",
    "    .select('pid', 'stats')\n",
    "    .explode('stats')\n",
    "    .unnest('stats')\n",
    "    .filter(pl.col('playoffs') == False)\n",
    "    .with_columns(ps=pl.col('ops') + pl.col('dps') + pl.col('gps'))\n",
    "    .sort('pid', 'season', 'tid')\n",
    "    .select('pid', 'season', 'tid', 'gp', 'min', 'ops', 'dps', 'gps', 'ps')\n",
    "    .collect()\n",
    ")\n",
    "\n",
    "player_stats_by_team_season = (\n",
    "    player_stats\n",
    "    .group_by(['pid', 'season', 'tid'])\n",
    "    .sum()\n",
    "    .sort('pid', 'season', 'tid')\n",
    ")\n",
    "\n",
    "player_stats_by_season = (\n",
    "    player_stats\n",
    "    .group_by(['pid', 'season'])\n",
    "    .sum()\n",
    "    .sort('pid', 'season')\n",
    ")\n",
    "\n",
    "player_salaries = (\n",
    "    players_raw\n",
    "    .select('pid', 'salaries')\n",
    "    .explode('salaries')\n",
    "    .unnest('salaries')\n",
    "    .group_by(['pid', 'season'])\n",
    "    .agg(salary=pl.col('amount').last())\n",
    "    .sort('pid', 'season')\n",
    "    .collect()\n",
    ")\n",
    "\n",
    "players = (\n",
    "    player_ratings\n",
    "    .join(player_stats_by_season, on=['pid', 'season'], how='left')\n",
    "    .join(player_salaries, on=['pid', 'season'], how='left')\n",
    "    .sort('pid', 'season')\n",
    ")\n",
    "\n",
    "replacement_df = (\n",
    "    players\n",
    "    .filter((pl.col('salary') == game_settings['minContract']) & (pl.col('age') >= 25) & (pl.col('min') > 0))\n",
    "    .with_columns(\n",
    "        weighted_ovr=pl.col('ovr') * pl.col('min')\n",
    "    )\n",
    "    .group_by('pos')\n",
    "    .agg(\n",
    "        total_minutes=pl.col('min').sum(),\n",
    "        total_ovr=pl.col('weighted_ovr').sum()\n",
    "    )\n",
    "    .select(\n",
    "        'pos',\n",
    "        ovr_rep=pl.col('total_ovr') / pl.col('total_minutes')\n",
    "    )\n",
    ")\n",
    "\n",
    "players = players.pipe(adjust_for_replacement, replacement_df)\n",
    "\n",
    "teams_with_ovr = (\n",
    "    player_stats_by_team_season\n",
    "    .join(\n",
    "        players.select('pid', 'season', 'pos', 'ovr'),\n",
    "        on=['pid', 'season'], how='left'\n",
    "    )\n",
    "    .pipe(adjust_for_replacement, replacement_df)\n",
    "    .group_by('season', 'tid', 'pos')\n",
    "    .agg(\n",
    "        pl.sum('ovr_added_minutes')\n",
    "    )\n",
    "    .pivot(index=['tid', 'season'], on='pos')\n",
    "    .sort('season', 'tid')\n",
    ")\n",
    "\n",
    "teams_with_ps = (\n",
    "    player_stats_by_team_season\n",
    "    .group_by('tid', 'season')\n",
    "    .agg(\n",
    "        pl.sum('ops'),\n",
    "        pl.sum('dps'),\n",
    "        pl.sum('gps'),\n",
    "    )\n",
    ")\n",
    "\n",
    "team_player_stats = (\n",
    "    teams_with_ovr\n",
    "    .join(teams_with_ps, on=['tid', 'season'], how='left')\n",
    ")\n",
    "\n",
    "team_standings = (\n",
    "    teams_raw\n",
    "    .select('seasons')\n",
    "    .explode('seasons')\n",
    "    .unnest('seasons')\n",
    "    .select(\n",
    "        pl.col('tid'),\n",
    "        pl.col('season'),\n",
    "        (2 * pl.col('won') + pl.col('otl')).alias('points'),\n",
    "        pl.col('won').alias('wins')\n",
    "    )\n",
    ")\n",
    "\n",
    "team_goals = (\n",
    "    teams_raw\n",
    "    .select('stats')\n",
    "    .explode('stats')\n",
    "    .unnest('stats')\n",
    "    .filter(pl.col('playoffs') == False)\n",
    "    .select(\n",
    "        pl.col('tid'),\n",
    "        pl.col('season'),\n",
    "        (pl.col('pts') - pl.col('oppPts')).alias('goal_diff')\n",
    "    )\n",
    ")\n",
    "\n",
    "teams = (\n",
    "    team_standings\n",
    "    .join(team_goals, on=['tid', 'season'], how='left')\n",
    "    .join(team_player_stats, on=['tid', 'season'], how='left')\n",
    ")"
   ],
   "id": "c5ff33c8cdf9da6f",
   "outputs": [],
   "execution_count": 105
  },
  {
   "metadata": {
    "ExecuteTime": {
     "end_time": "2024-07-30T15:08:24.399647Z",
     "start_time": "2024-07-30T15:08:24.393190Z"
    }
   },
   "cell_type": "code",
   "source": [
    "ridge_model = RidgeCV()\n",
    "ridge_model.fit(\n",
    "    teams.select(\n",
    "        ['C', 'W', 'D', 'G']),\n",
    "    teams.select('goal_diff')\n",
    ")\n",
    "\n",
    "model_coefs = ridge_model.coef_[0]"
   ],
   "id": "bbf785beff373542",
   "outputs": [],
   "execution_count": 106
  },
  {
   "metadata": {
    "ExecuteTime": {
     "end_time": "2024-07-30T15:08:24.923911Z",
     "start_time": "2024-07-30T15:08:24.920118Z"
    }
   },
   "cell_type": "code",
   "source": [
    "teams_with_preds = (\n",
    "    teams\n",
    "    .with_columns(\n",
    "        goals_C=pl.col('C') * model_coefs[0],\n",
    "        goals_W=pl.col('W') * model_coefs[1],\n",
    "        goals_D=pl.col('D') * model_coefs[2],\n",
    "        goals_G=pl.col('G') * model_coefs[3],\n",
    "        goals_added=(\n",
    "                pl.col('C') * model_coefs[0] +\n",
    "                pl.col('W') * model_coefs[1] +\n",
    "                pl.col('D') * model_coefs[2] +\n",
    "                pl.col('G') * model_coefs[3]\n",
    "        )\n",
    "    )\n",
    "    .with_columns(\n",
    "        goals_pred=pl.col('goals_added') + ridge_model.intercept_\n",
    "    )\n",
    ")"
   ],
   "id": "82821536c795cf16",
   "outputs": [],
   "execution_count": 107
  },
  {
   "metadata": {
    "ExecuteTime": {
     "end_time": "2024-07-30T15:08:25.634882Z",
     "start_time": "2024-07-30T15:08:25.622877Z"
    }
   },
   "cell_type": "code",
   "source": [
    "goals_for_grabs = teams_with_preds.group_by('season').agg(pl.sum('goals_added')).select(pl.mean('goals_added')).item()\n",
    "goalie_goals_for_grabs = teams_with_preds.group_by('season').agg(pl.sum('goals_G')).select(pl.mean('goals_G')).item()\n",
    "skater_goals_for_grabs = goals_for_grabs - goalie_goals_for_grabs\n",
    "\n",
    "salary_after_replacement = 32 * (80 - 25 * (game_settings['minContract'] / 1000))\n",
    "\n",
    "salary_for_goalies = salary_after_replacement * 0.15\n",
    "salary_for_skaters = salary_after_replacement - salary_for_goalies"
   ],
   "id": "f3d5a5dcdf540a85",
   "outputs": [],
   "execution_count": 108
  },
  {
   "metadata": {
    "ExecuteTime": {
     "end_time": "2024-07-30T15:08:26.457410Z",
     "start_time": "2024-07-30T15:08:26.256759Z"
    }
   },
   "cell_type": "code",
   "source": [
    "from xgboost import XGBRegressor\n",
    "\n",
    "minute_data = (\n",
    "    players\n",
    "    .select(\n",
    "        'pos',\n",
    "        'ovr',\n",
    "        pl.col('min').truediv(60 * 82).fill_null(0).alias('min_pct')\n",
    "    )\n",
    "    .with_columns(\n",
    "        pl.col('pos').replace({'C': 1, 'W': 2, 'D': 3, 'G': 4}).alias('pos_map'),\n",
    "    )\n",
    ")\n",
    "\n",
    "model = XGBRegressor()\n",
    "model.fit(\n",
    "    minute_data.select('pos_map', 'ovr'),\n",
    "    minute_data.select('min_pct'),\n",
    ")\n",
    "\n",
    "lookup_data = (\n",
    "    pl.DataFrame({'pos': ['C', 'W', 'D', 'G'], 'pos_map': [1, 2, 3, 4]})\n",
    "    .with_columns(\n",
    "        ovr=pl.Series([list(range(0, 101))]),\n",
    "    )\n",
    "    .explode('ovr')\n",
    ")\n",
    "minutes_lookup = (\n",
    "    lookup_data\n",
    "    .with_columns(\n",
    "        min_pred=pl.Series(model.predict(lookup_data.select('pos_map', 'ovr')).clip(0))\n",
    "    )\n",
    "    .rolling(\n",
    "        'ovr',\n",
    "        period='10i',\n",
    "        offset='-5i',\n",
    "        group_by='pos')\n",
    "    .agg(\n",
    "        pl.mean('min_pred')\n",
    "    )\n",
    "    .select(\n",
    "        pl.col('pos'),\n",
    "        pl.col('ovr').alias('ovr_round'),\n",
    "        pl.col('min_pred')\n",
    "    )\n",
    ")"
   ],
   "id": "9b444fe5c382fda0",
   "outputs": [],
   "execution_count": 109
  },
  {
   "metadata": {
    "ExecuteTime": {
     "end_time": "2024-07-30T15:10:46.726481Z",
     "start_time": "2024-07-30T15:10:46.703600Z"
    }
   },
   "cell_type": "code",
   "source": [
    "players_final = (\n",
    "    players\n",
    "    .with_columns(\n",
    "        ovr_round=pl.col('ovr').round(0)\n",
    "    )\n",
    "    .join(minutes_lookup, on=['pos', 'ovr_round'], how='left')\n",
    "    .with_columns(\n",
    "        pos_mod=(\n",
    "            pl.when(pl.col('pos') == 'C').then(pl.lit(0.275))\n",
    "            .when(pl.col('pos') == 'W').then(pl.lit(0.275))\n",
    "            .when(pl.col('pos') == 'D').then(pl.lit(0.3))\n",
    "            .when(pl.col('pos') == 'G').then(pl.lit(0.65))\n",
    "        ),\n",
    "        pos_mod_new=pl.col('min_pred'),\n",
    "        ovr_mod=(\n",
    "            pl.when(pl.col('pos') == 'C').then(pl.lit(model_coefs[0]))\n",
    "            .when(pl.col('pos') == 'W').then(pl.lit(model_coefs[1]))\n",
    "            .when(pl.col('pos') == 'D').then(pl.lit(model_coefs[2]))\n",
    "            .when(pl.col('pos') == 'G').then(pl.lit(model_coefs[3]))\n",
    "        )\n",
    "    )\n",
    "    .with_columns(pred_minutes=60 * 82 * pl.col('pos_mod_new'))\n",
    "    .with_columns(ovr_added_pred_minutes=pl.col('ovr_added') * pl.col('pred_minutes'))\n",
    "    .with_columns(\n",
    "        goals_added=pl.col('ovr_added_pred_minutes') * pl.col('ovr_mod')\n",
    "    )\n",
    "    .with_columns(\n",
    "        goals_added_pct=pl.col('goals_added') / goals_for_grabs,\n",
    "        goals_added_goalie_pct=pl.col('goals_added') / goalie_goals_for_grabs,\n",
    "        goals_added_skater_pct=pl.col('goals_added') / skater_goals_for_grabs,\n",
    "    )\n",
    "    .with_columns(\n",
    "        cap_value=salary_after_replacement * pl.col('goals_added_pct') + (game_settings['minContract'] / 1000),\n",
    "        cap_value_goalie=salary_for_goalies * pl.col('goals_added_goalie_pct') + (game_settings['minContract'] / 1000),\n",
    "        cap_value_skater=salary_for_skaters * pl.col('goals_added_skater_pct') + (game_settings['minContract'] / 1000),\n",
    "    )\n",
    "    .with_columns(\n",
    "        cap_value_pos=pl.when(pl.col('pos') == 'G').then(pl.col('cap_value_goalie')).otherwise(\n",
    "            pl.col('cap_value_skater'))\n",
    "    )\n",
    ")"
   ],
   "id": "3cf30a5f5f4153e2",
   "outputs": [],
   "execution_count": 125
  },
  {
   "metadata": {
    "ExecuteTime": {
     "end_time": "2024-07-30T15:10:47.752403Z",
     "start_time": "2024-07-30T15:10:47.723906Z"
    }
   },
   "cell_type": "code",
   "source": [
    "for position in ['C', 'W', 'D', 'G']:\n",
    "    model_data = (\n",
    "        players_final.filter(pl.col('pos') == position)\n",
    "        .filter(pl.col('ovr') >= 60)\n",
    "        .unique('ovr')\n",
    "        .select('ovr', 'cap_value', 'cap_value_pos')\n",
    "    )\n",
    "    model = LinearRegression()\n",
    "    model.fit(model_data.select('ovr'), model_data.select('cap_value_pos'))\n",
    "    filepath = MODELS_DIR / 'ovr_to_cap' / f'{position}.pkl'\n",
    "    with open(filepath, 'wb') as file:\n",
    "        pickle.dump(model, file)"
   ],
   "id": "2bc2e988ebbf0a05",
   "outputs": [],
   "execution_count": 126
  },
  {
   "metadata": {},
   "cell_type": "code",
   "outputs": [],
   "execution_count": null,
   "source": "",
   "id": "32fe896411e16418"
  }
 ],
 "metadata": {
  "kernelspec": {
   "display_name": "Python 3",
   "language": "python",
   "name": "python3"
  },
  "language_info": {
   "codemirror_mode": {
    "name": "ipython",
    "version": 2
   },
   "file_extension": ".py",
   "mimetype": "text/x-python",
   "name": "python",
   "nbconvert_exporter": "python",
   "pygments_lexer": "ipython2",
   "version": "2.7.6"
  }
 },
 "nbformat": 4,
 "nbformat_minor": 5
}
