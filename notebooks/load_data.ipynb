{
 "cells": [
  {
   "cell_type": "code",
   "id": "initial_id",
   "metadata": {
    "collapsed": true,
    "ExecuteTime": {
     "end_time": "2024-07-27T14:04:17.251111Z",
     "start_time": "2024-07-27T14:04:17.042650Z"
    }
   },
   "source": [
    "import msgspec\n",
    "import polars as pl\n",
    "import pickle\n",
    "from hgm.config import DATA_FILEPATH, MODELS_DIR, DATA_DIR"
   ],
   "outputs": [
    {
     "name": "stderr",
     "output_type": "stream",
     "text": [
      "\u001B[32m2024-07-27 10:04:17.240\u001B[0m | \u001B[1mINFO    \u001B[0m | \u001B[36mhgm.config\u001B[0m:\u001B[36m<module>\u001B[0m:\u001B[36m11\u001B[0m - \u001B[1mPROJ_ROOT path is: C:\\Users\\jrnas\\Projects\\Personal\\hgm\u001B[0m\n"
     ]
    }
   ],
   "execution_count": 1
  },
  {
   "metadata": {},
   "cell_type": "code",
   "outputs": [],
   "execution_count": null,
   "source": [
    "json_data = pl.read_json(DATA_FILEPATH)\n",
    "json_data.select('players').explode('players').unnest('players').write_parquet(DATA_DIR / 'raw' / 'players.parquet')\n",
    "json_data.select('teams').explode('teams').unnest('teams').write_parquet(DATA_DIR / 'raw' / 'teams.parquet')\n",
    "with open(DATA_DIR / 'raw' / 'game_settings.pkl', 'wb') as file:\n",
    "    pickle.dump(json_data.select('gameAttributes').item(), file)"
   ],
   "id": "dff03e719c315143"
  },
  {
   "metadata": {
    "ExecuteTime": {
     "end_time": "2024-07-27T14:04:20.226605Z",
     "start_time": "2024-07-27T14:04:18.665894Z"
    }
   },
   "cell_type": "code",
   "source": [
    "with open(DATA_FILEPATH, 'rb') as file:\n",
    "    decoded_data = msgspec.json.decode(file.read())"
   ],
   "id": "794896db6cf24a86",
   "outputs": [],
   "execution_count": 2
  },
  {
   "metadata": {
    "ExecuteTime": {
     "end_time": "2024-07-27T14:04:28.722047Z",
     "start_time": "2024-07-27T14:04:20.899047Z"
    }
   },
   "cell_type": "code",
   "source": [
    "players_raw = pl.DataFrame(decoded_data['players'], strict=False)\n",
    "teams_raw = pl.DataFrame(decoded_data['teams'], strict=False)\n",
    "game_settings = decoded_data['gameAttributes']\n",
    "\n",
    "players_raw.write_parquet(DATA_DIR / 'raw' / 'players.parquet')\n",
    "teams_raw.write_parquet(DATA_DIR / 'raw' / 'teams.parquet')\n",
    "with open(DATA_DIR / 'raw' / 'game_settings.pkl', 'wb') as file:\n",
    "    pickle.dump(game_settings, file)"
   ],
   "id": "f881b5bea03a5057",
   "outputs": [],
   "execution_count": 3
  },
  {
   "metadata": {},
   "cell_type": "code",
   "outputs": [],
   "execution_count": null,
   "source": "",
   "id": "5fadcf0e1ddd7f93"
  }
 ],
 "metadata": {
  "kernelspec": {
   "display_name": "Python 3",
   "language": "python",
   "name": "python3"
  },
  "language_info": {
   "codemirror_mode": {
    "name": "ipython",
    "version": 2
   },
   "file_extension": ".py",
   "mimetype": "text/x-python",
   "name": "python",
   "nbconvert_exporter": "python",
   "pygments_lexer": "ipython2",
   "version": "2.7.6"
  }
 },
 "nbformat": 4,
 "nbformat_minor": 5
}
