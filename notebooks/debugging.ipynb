{
 "cells": [
  {
   "metadata": {
    "ExecuteTime": {
     "end_time": "2024-07-29T16:59:59.174004Z",
     "start_time": "2024-07-29T16:59:57.578877Z"
    }
   },
   "cell_type": "code",
   "source": [
    "import polars as pl\n",
    "import pickle\n",
    "\n",
    "from hgm.config import MODELS_DIR, DATA_DIR\n",
    "from hgm.data import utils"
   ],
   "id": "daa603525d889d9a",
   "outputs": [
    {
     "name": "stderr",
     "output_type": "stream",
     "text": [
      "\u001B[32m2024-07-29 12:59:58.864\u001B[0m | \u001B[1mINFO    \u001B[0m | \u001B[36mhgm.config\u001B[0m:\u001B[36m<module>\u001B[0m:\u001B[36m11\u001B[0m - \u001B[1mPROJ_ROOT path is: C:\\Users\\jrnas\\Projects\\Personal\\hgm\u001B[0m\n"
     ]
    }
   ],
   "execution_count": 1
  },
  {
   "metadata": {
    "ExecuteTime": {
     "end_time": "2024-07-29T17:03:56.392066Z",
     "start_time": "2024-07-29T17:03:56.385691Z"
    }
   },
   "cell_type": "code",
   "source": "FILEPATH = 'C:/Users/jrnas/Downloads/ZGMH_National_Hockey_League_2025_fantasy_draft.json'",
   "id": "4f85e8072ee670dc",
   "outputs": [],
   "execution_count": 21
  },
  {
   "metadata": {
    "ExecuteTime": {
     "end_time": "2024-07-29T17:03:57.093934Z",
     "start_time": "2024-07-29T17:03:56.560675Z"
    }
   },
   "cell_type": "code",
   "source": "df = pl.read_json(FILEPATH)",
   "id": "d5ad3e5b30a24b41",
   "outputs": [],
   "execution_count": 22
  },
  {
   "metadata": {
    "ExecuteTime": {
     "end_time": "2024-07-29T17:03:14.992701Z",
     "start_time": "2024-07-29T17:03:14.971431Z"
    }
   },
   "cell_type": "code",
   "source": "df.drop('pos')",
   "id": "f44b31007debfc71",
   "outputs": [
    {
     "ename": "ColumnNotFoundError",
     "evalue": "pos",
     "output_type": "error",
     "traceback": [
      "\u001B[1;31m---------------------------------------------------------------------------\u001B[0m",
      "\u001B[1;31mColumnNotFoundError\u001B[0m                       Traceback (most recent call last)",
      "Cell \u001B[1;32mIn[16], line 1\u001B[0m\n\u001B[1;32m----> 1\u001B[0m \u001B[43mdf\u001B[49m\u001B[38;5;241;43m.\u001B[39;49m\u001B[43mdrop\u001B[49m\u001B[43m(\u001B[49m\u001B[38;5;124;43m'\u001B[39;49m\u001B[38;5;124;43mpos\u001B[39;49m\u001B[38;5;124;43m'\u001B[39;49m\u001B[43m)\u001B[49m\n",
      "File \u001B[1;32m~\\python_environments\\hgm\\Lib\\site-packages\\polars\\dataframe\\frame.py:7179\u001B[0m, in \u001B[0;36mDataFrame.drop\u001B[1;34m(self, strict, *columns)\u001B[0m\n\u001B[0;32m   7096\u001B[0m \u001B[38;5;28;01mdef\u001B[39;00m \u001B[38;5;21mdrop\u001B[39m(\n\u001B[0;32m   7097\u001B[0m     \u001B[38;5;28mself\u001B[39m,\n\u001B[0;32m   7098\u001B[0m     \u001B[38;5;241m*\u001B[39mcolumns: ColumnNameOrSelector \u001B[38;5;241m|\u001B[39m Iterable[ColumnNameOrSelector],\n\u001B[0;32m   7099\u001B[0m     strict: \u001B[38;5;28mbool\u001B[39m \u001B[38;5;241m=\u001B[39m \u001B[38;5;28;01mTrue\u001B[39;00m,\n\u001B[0;32m   7100\u001B[0m ) \u001B[38;5;241m-\u001B[39m\u001B[38;5;241m>\u001B[39m DataFrame:\n\u001B[0;32m   7101\u001B[0m \u001B[38;5;250m    \u001B[39m\u001B[38;5;124;03m\"\"\"\u001B[39;00m\n\u001B[0;32m   7102\u001B[0m \u001B[38;5;124;03m    Remove columns from the dataframe.\u001B[39;00m\n\u001B[0;32m   7103\u001B[0m \n\u001B[1;32m   (...)\u001B[0m\n\u001B[0;32m   7177\u001B[0m \u001B[38;5;124;03m    └─────┘\u001B[39;00m\n\u001B[0;32m   7178\u001B[0m \u001B[38;5;124;03m    \"\"\"\u001B[39;00m\n\u001B[1;32m-> 7179\u001B[0m     \u001B[38;5;28;01mreturn\u001B[39;00m \u001B[38;5;28;43mself\u001B[39;49m\u001B[38;5;241;43m.\u001B[39;49m\u001B[43mlazy\u001B[49m\u001B[43m(\u001B[49m\u001B[43m)\u001B[49m\u001B[38;5;241;43m.\u001B[39;49m\u001B[43mdrop\u001B[49m\u001B[43m(\u001B[49m\u001B[38;5;241;43m*\u001B[39;49m\u001B[43mcolumns\u001B[49m\u001B[43m,\u001B[49m\u001B[43m \u001B[49m\u001B[43mstrict\u001B[49m\u001B[38;5;241;43m=\u001B[39;49m\u001B[43mstrict\u001B[49m\u001B[43m)\u001B[49m\u001B[38;5;241;43m.\u001B[39;49m\u001B[43mcollect\u001B[49m\u001B[43m(\u001B[49m\u001B[43m_eager\u001B[49m\u001B[38;5;241;43m=\u001B[39;49m\u001B[38;5;28;43;01mTrue\u001B[39;49;00m\u001B[43m)\u001B[49m\n",
      "File \u001B[1;32m~\\python_environments\\hgm\\Lib\\site-packages\\polars\\lazyframe\\frame.py:1942\u001B[0m, in \u001B[0;36mLazyFrame.collect\u001B[1;34m(self, type_coercion, predicate_pushdown, projection_pushdown, simplify_expression, slice_pushdown, comm_subplan_elim, comm_subexpr_elim, cluster_with_columns, no_optimization, streaming, background, _eager, **_kwargs)\u001B[0m\n\u001B[0;32m   1939\u001B[0m \u001B[38;5;66;03m# Only for testing purposes atm.\u001B[39;00m\n\u001B[0;32m   1940\u001B[0m callback \u001B[38;5;241m=\u001B[39m _kwargs\u001B[38;5;241m.\u001B[39mget(\u001B[38;5;124m\"\u001B[39m\u001B[38;5;124mpost_opt_callback\u001B[39m\u001B[38;5;124m\"\u001B[39m)\n\u001B[1;32m-> 1942\u001B[0m \u001B[38;5;28;01mreturn\u001B[39;00m wrap_df(\u001B[43mldf\u001B[49m\u001B[38;5;241;43m.\u001B[39;49m\u001B[43mcollect\u001B[49m\u001B[43m(\u001B[49m\u001B[43mcallback\u001B[49m\u001B[43m)\u001B[49m)\n",
      "\u001B[1;31mColumnNotFoundError\u001B[0m: pos"
     ]
    }
   ],
   "execution_count": 16
  },
  {
   "metadata": {},
   "cell_type": "code",
   "outputs": [],
   "execution_count": null,
   "source": "",
   "id": "acd049cb30a3b05c"
  }
 ],
 "metadata": {
  "kernelspec": {
   "display_name": "Python 3",
   "language": "python",
   "name": "python3"
  },
  "language_info": {
   "codemirror_mode": {
    "name": "ipython",
    "version": 2
   },
   "file_extension": ".py",
   "mimetype": "text/x-python",
   "name": "python",
   "nbconvert_exporter": "python",
   "pygments_lexer": "ipython2",
   "version": "2.7.6"
  }
 },
 "nbformat": 4,
 "nbformat_minor": 5
}
