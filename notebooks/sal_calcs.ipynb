{
 "cells": [
  {
   "metadata": {
    "ExecuteTime": {
     "end_time": "2024-07-25T18:04:38.446778Z",
     "start_time": "2024-07-25T18:04:38.258935Z"
    }
   },
   "cell_type": "code",
   "source": [
    "import polars as pl\n",
    "import pickle\n",
    "\n",
    "from hgm.config import MODELS_DIR, DATA_DIR"
   ],
   "id": "3988948eb9eac9cb",
   "outputs": [
    {
     "name": "stderr",
     "output_type": "stream",
     "text": [
      "\u001B[32m2024-07-25 14:04:38.435\u001B[0m | \u001B[1mINFO    \u001B[0m | \u001B[36mhgm.config\u001B[0m:\u001B[36m<module>\u001B[0m:\u001B[36m11\u001B[0m - \u001B[1mPROJ_ROOT path is: C:\\Users\\jrnas\\Projects\\Personal\\hgm\u001B[0m\n"
     ]
    }
   ],
   "execution_count": 2
  },
  {
   "metadata": {
    "ExecuteTime": {
     "end_time": "2024-07-25T18:06:18.932450Z",
     "start_time": "2024-07-25T18:06:18.928171Z"
    }
   },
   "cell_type": "code",
   "source": [
    "players_raw = pl.scan_parquet(DATA_DIR / 'raw' / 'players.parquet')\n",
    "\n",
    "with open(DATA_DIR / 'raw' / 'game_settings.pkl', 'rb') as file:\n",
    "    game_settings = pickle.load(file)"
   ],
   "id": "a42a1e2a51915f41",
   "outputs": [],
   "execution_count": 12
  },
  {
   "metadata": {
    "ExecuteTime": {
     "end_time": "2024-07-25T18:06:19.833655Z",
     "start_time": "2024-07-25T18:06:19.371252Z"
    }
   },
   "cell_type": "code",
   "source": [
    "player_ratings = (\n",
    "    players_raw\n",
    "    .with_columns(\n",
    "        pl.concat_str(pl.col('firstName'), pl.lit(' '), pl.col('lastName')).alias('player'),\n",
    "    )\n",
    "    .explode('ratings')\n",
    "    .unnest('ratings')\n",
    "    .with_columns(\n",
    "        age=pl.col('season') - pl.col('born').struct.field('year')\n",
    "    )\n",
    "    .unique(['pid', 'season'])\n",
    "    .sort(['pid', 'season'])\n",
    "    .select('player', 'pid', 'tid', 'season', 'age', 'pos', 'ovr')\n",
    "    .collect()\n",
    ")\n",
    "\n",
    "player_salaries = (\n",
    "    players_raw\n",
    "    .select('pid', 'salaries')\n",
    "    .explode('salaries')\n",
    "    .unnest('salaries')\n",
    "    .group_by(['pid', 'season'])\n",
    "    .agg(salary=pl.col('amount').last())\n",
    "    .sort('pid', 'season')\n",
    "    .collect()\n",
    ")"
   ],
   "id": "8457b0aa25f7ce93",
   "outputs": [],
   "execution_count": 13
  },
  {
   "metadata": {
    "ExecuteTime": {
     "end_time": "2024-07-25T18:22:58.831433Z",
     "start_time": "2024-07-25T18:22:58.782347Z"
    }
   },
   "cell_type": "code",
   "source": [
    "new_contracts = (\n",
    "    player_salaries\n",
    "    .with_columns(\n",
    "        contract_year=pl.col('salary') != pl.col('salary').shift(-1).over('pid'),\n",
    "    )\n",
    "    .filter(pl.col('contract_year'))\n",
    "    .select(\n",
    "        pl.col('pid'),\n",
    "        pl.col('season'),\n",
    "        pl.col('salary').alias('current_salary') / 1000,\n",
    "        pl.col('salary').shift(-1).over('pid').alias('next_salary') / 1000,\n",
    "    )\n",
    "    .drop_nulls()\n",
    ")"
   ],
   "id": "fda67cc48436140b",
   "outputs": [],
   "execution_count": 65
  },
  {
   "metadata": {
    "ExecuteTime": {
     "end_time": "2024-07-25T18:22:59.997724Z",
     "start_time": "2024-07-25T18:22:59.980362Z"
    }
   },
   "cell_type": "code",
   "source": [
    "contract_data = (\n",
    "    new_contracts\n",
    "    .join(player_ratings, on=['pid', 'season'], how='left')\n",
    "    .select(\n",
    "        'pid', 'age', 'ovr', 'current_salary', 'next_salary',\n",
    "        pl.col('pos').replace({\n",
    "            'C': 1,\n",
    "            'W': 2,\n",
    "            'D': 3,\n",
    "            'G': 4\n",
    "        }).cast(pl.Int32).alias('pos_map')\n",
    "    )\n",
    ")"
   ],
   "id": "33f477be498a5992",
   "outputs": [],
   "execution_count": 66
  },
  {
   "metadata": {
    "ExecuteTime": {
     "end_time": "2024-07-25T18:23:02.167744Z",
     "start_time": "2024-07-25T18:23:02.164430Z"
    }
   },
   "cell_type": "code",
   "source": [
    "from sklearn.model_selection import train_test_split\n",
    "from xgboost import XGBRegressor\n",
    "import pickle"
   ],
   "id": "531ced69ec8da8ed",
   "outputs": [],
   "execution_count": 68
  },
  {
   "metadata": {
    "ExecuteTime": {
     "end_time": "2024-07-25T18:29:49.398963Z",
     "start_time": "2024-07-25T18:29:49.268333Z"
    }
   },
   "cell_type": "code",
   "source": [
    "features = ['pos_map', 'age', 'ovr', 'current_salary']\n",
    "target = 'next_salary'\n",
    "\n",
    "# Split the data into training and validation sets\n",
    "X_train, X_val, y_train, y_val = (\n",
    "    train_test_split(\n",
    "        contract_data.select(features),\n",
    "        contract_data.select(target),\n",
    "        test_size=0.2,\n",
    "        random_state=42\n",
    "    )\n",
    ")\n",
    "\n",
    "model = XGBRegressor(\n",
    "    early_stopping_rounds=10,\n",
    "    learning_rate=0.0621803\n",
    ")\n",
    "\n",
    "# Fit the model using the training data and validate using the validation data\n",
    "model.fit(X_train, y_train, eval_set=[(X_val, y_val)])\n",
    "\n",
    "with open(MODELS_DIR / 'salary' / 'xgboost_salary.pkl', 'wb') as file:\n",
    "    pickle.dump(model, file)"
   ],
   "id": "6d04c77d354bee5b",
   "outputs": [
    {
     "name": "stdout",
     "output_type": "stream",
     "text": [
      "[0]\tvalidation_0-rmse:3.30932\n",
      "[1]\tvalidation_0-rmse:3.14592\n",
      "[2]\tvalidation_0-rmse:2.99429\n",
      "[3]\tvalidation_0-rmse:2.85365\n",
      "[4]\tvalidation_0-rmse:2.72448\n",
      "[5]\tvalidation_0-rmse:2.60415\n",
      "[6]\tvalidation_0-rmse:2.49447\n",
      "[7]\tvalidation_0-rmse:2.39310\n",
      "[8]\tvalidation_0-rmse:2.30091\n",
      "[9]\tvalidation_0-rmse:2.21624\n",
      "[10]\tvalidation_0-rmse:2.13859\n",
      "[11]\tvalidation_0-rmse:2.06782\n",
      "[12]\tvalidation_0-rmse:2.00295\n",
      "[13]\tvalidation_0-rmse:1.94477\n",
      "[14]\tvalidation_0-rmse:1.89168\n",
      "[15]\tvalidation_0-rmse:1.84343\n",
      "[16]\tvalidation_0-rmse:1.80050\n",
      "[17]\tvalidation_0-rmse:1.76152\n",
      "[18]\tvalidation_0-rmse:1.72626\n",
      "[19]\tvalidation_0-rmse:1.69459\n",
      "[20]\tvalidation_0-rmse:1.66653\n",
      "[21]\tvalidation_0-rmse:1.64148\n",
      "[22]\tvalidation_0-rmse:1.61881\n",
      "[23]\tvalidation_0-rmse:1.59873\n",
      "[24]\tvalidation_0-rmse:1.58014\n",
      "[25]\tvalidation_0-rmse:1.56442\n",
      "[26]\tvalidation_0-rmse:1.55016\n",
      "[27]\tvalidation_0-rmse:1.53767\n",
      "[28]\tvalidation_0-rmse:1.52641\n",
      "[29]\tvalidation_0-rmse:1.51631\n",
      "[30]\tvalidation_0-rmse:1.50711\n",
      "[31]\tvalidation_0-rmse:1.49923\n",
      "[32]\tvalidation_0-rmse:1.49272\n",
      "[33]\tvalidation_0-rmse:1.48697\n",
      "[34]\tvalidation_0-rmse:1.48212\n",
      "[35]\tvalidation_0-rmse:1.47773\n",
      "[36]\tvalidation_0-rmse:1.47377\n",
      "[37]\tvalidation_0-rmse:1.47038\n",
      "[38]\tvalidation_0-rmse:1.46769\n",
      "[39]\tvalidation_0-rmse:1.46502\n",
      "[40]\tvalidation_0-rmse:1.46258\n",
      "[41]\tvalidation_0-rmse:1.46084\n",
      "[42]\tvalidation_0-rmse:1.45897\n",
      "[43]\tvalidation_0-rmse:1.45750\n",
      "[44]\tvalidation_0-rmse:1.45646\n",
      "[45]\tvalidation_0-rmse:1.45576\n",
      "[46]\tvalidation_0-rmse:1.45492\n",
      "[47]\tvalidation_0-rmse:1.45404\n",
      "[48]\tvalidation_0-rmse:1.45268\n",
      "[49]\tvalidation_0-rmse:1.45235\n",
      "[50]\tvalidation_0-rmse:1.45183\n",
      "[51]\tvalidation_0-rmse:1.45184\n",
      "[52]\tvalidation_0-rmse:1.45169\n",
      "[53]\tvalidation_0-rmse:1.45132\n",
      "[54]\tvalidation_0-rmse:1.45107\n",
      "[55]\tvalidation_0-rmse:1.45054\n",
      "[56]\tvalidation_0-rmse:1.45062\n",
      "[57]\tvalidation_0-rmse:1.45085\n",
      "[58]\tvalidation_0-rmse:1.45096\n",
      "[59]\tvalidation_0-rmse:1.45132\n",
      "[60]\tvalidation_0-rmse:1.45158\n",
      "[61]\tvalidation_0-rmse:1.45186\n",
      "[62]\tvalidation_0-rmse:1.45208\n",
      "[63]\tvalidation_0-rmse:1.45174\n",
      "[64]\tvalidation_0-rmse:1.45177\n",
      "[65]\tvalidation_0-rmse:1.45199\n"
     ]
    }
   ],
   "execution_count": 77
  },
  {
   "metadata": {},
   "cell_type": "code",
   "execution_count": 74,
   "source": [
    "(\n",
    "    contract_data\n",
    "    .with_columns(\n",
    "        predicted_salary=model.predict(contract_data.select(features))\n",
    "    )\n",
    "    .filter(\n",
    "        (pl.col('next_salary') >= 6) &\n",
    "        (pl.col('predicted_salary') <= 2)\n",
    "    )\n",
    ")"
   ],
   "id": "499025d1e9be828d",
   "outputs": []
  },
  {
   "metadata": {},
   "cell_type": "code",
   "outputs": [],
   "execution_count": null,
   "source": "",
   "id": "2ae616918db2a6f5"
  }
 ],
 "metadata": {
  "kernelspec": {
   "display_name": "Python 3",
   "language": "python",
   "name": "python3"
  },
  "language_info": {
   "codemirror_mode": {
    "name": "ipython",
    "version": 2
   },
   "file_extension": ".py",
   "mimetype": "text/x-python",
   "name": "python",
   "nbconvert_exporter": "python",
   "pygments_lexer": "ipython2",
   "version": "2.7.6"
  }
 },
 "nbformat": 4,
 "nbformat_minor": 5
}
